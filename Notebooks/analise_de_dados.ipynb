{
  "nbformat": 4,
  "nbformat_minor": 0,
  "metadata": {
    "colab": {
      "name": "analise_de_dados.ipynb",
      "provenance": [],
      "authorship_tag": "ABX9TyOiDsLTt7JQ6FFF3k956zBZ",
      "include_colab_link": true
    },
    "kernelspec": {
      "name": "python3",
      "display_name": "Python 3"
    },
    "language_info": {
      "name": "python"
    }
  },
  "cells": [
    {
      "cell_type": "markdown",
      "metadata": {
        "id": "view-in-github",
        "colab_type": "text"
      },
      "source": [
        "<a href=\"https://colab.research.google.com/github/strawndri/Edutech-projeto_final/blob/main/Notebooks/analise_de_dados.ipynb\" target=\"_parent\"><img src=\"https://colab.research.google.com/assets/colab-badge.svg\" alt=\"Open In Colab\"/></a>"
      ]
    },
    {
      "cell_type": "markdown",
      "metadata": {
        "id": "EGLhZd1lO9sp"
      },
      "source": [
        "# **1. Importações**"
      ]
    },
    {
      "cell_type": "markdown",
      "metadata": {
        "id": "jWMuMydTPUBO"
      },
      "source": [
        "## *1.1 Bibliotecas*"
      ]
    },
    {
      "cell_type": "code",
      "metadata": {
        "id": "2srbCOL8Lxy9",
        "colab": {
          "base_uri": "https://localhost:8080/"
        },
        "outputId": "32b2f5c4-52c4-40f3-adfc-3b7c747de9c5"
      },
      "source": [
        "import pandas as pd\n",
        "\n",
        "import matplotlib.pyplot as plt\n",
        "!pip install seaborn\n",
        "import seaborn as sns"
      ],
      "execution_count": 12,
      "outputs": [
        {
          "output_type": "stream",
          "name": "stdout",
          "text": [
            "Requirement already satisfied: seaborn in /usr/local/lib/python3.7/dist-packages (0.11.2)\n",
            "Requirement already satisfied: matplotlib>=2.2 in /usr/local/lib/python3.7/dist-packages (from seaborn) (3.2.2)\n",
            "Requirement already satisfied: numpy>=1.15 in /usr/local/lib/python3.7/dist-packages (from seaborn) (1.19.5)\n",
            "Requirement already satisfied: scipy>=1.0 in /usr/local/lib/python3.7/dist-packages (from seaborn) (1.4.1)\n",
            "Requirement already satisfied: pandas>=0.23 in /usr/local/lib/python3.7/dist-packages (from seaborn) (1.1.5)\n",
            "Requirement already satisfied: pyparsing!=2.0.4,!=2.1.2,!=2.1.6,>=2.0.1 in /usr/local/lib/python3.7/dist-packages (from matplotlib>=2.2->seaborn) (3.0.6)\n",
            "Requirement already satisfied: cycler>=0.10 in /usr/local/lib/python3.7/dist-packages (from matplotlib>=2.2->seaborn) (0.11.0)\n",
            "Requirement already satisfied: python-dateutil>=2.1 in /usr/local/lib/python3.7/dist-packages (from matplotlib>=2.2->seaborn) (2.8.2)\n",
            "Requirement already satisfied: kiwisolver>=1.0.1 in /usr/local/lib/python3.7/dist-packages (from matplotlib>=2.2->seaborn) (1.3.2)\n",
            "Requirement already satisfied: pytz>=2017.2 in /usr/local/lib/python3.7/dist-packages (from pandas>=0.23->seaborn) (2018.9)\n",
            "Requirement already satisfied: six>=1.5 in /usr/local/lib/python3.7/dist-packages (from python-dateutil>=2.1->matplotlib>=2.2->seaborn) (1.15.0)\n"
          ]
        }
      ]
    },
    {
      "cell_type": "markdown",
      "metadata": {
        "id": "jtig2cN-PT6S"
      },
      "source": [
        "## *1.2 Base de Dados*"
      ]
    },
    {
      "cell_type": "code",
      "metadata": {
        "id": "8pzteJ2QPH1G",
        "colab": {
          "base_uri": "https://localhost:8080/",
          "height": 241
        },
        "outputId": "6da677f4-05e6-4fcc-e706-46de77de6219"
      },
      "source": [
        "dataset = pd.read_csv('https://www.educacao.pr.gov.br/sites/default/arquivos_restritos/files/documento/2021-11/edutech_comparativos_metricas.csv', sep=';')\n",
        "dataset.head()"
      ],
      "execution_count": 13,
      "outputs": [
        {
          "output_type": "execute_result",
          "data": {
            "text/html": [
              "<div>\n",
              "<style scoped>\n",
              "    .dataframe tbody tr th:only-of-type {\n",
              "        vertical-align: middle;\n",
              "    }\n",
              "\n",
              "    .dataframe tbody tr th {\n",
              "        vertical-align: top;\n",
              "    }\n",
              "\n",
              "    .dataframe thead th {\n",
              "        text-align: right;\n",
              "    }\n",
              "</style>\n",
              "<table border=\"1\" class=\"dataframe\">\n",
              "  <thead>\n",
              "    <tr style=\"text-align: right;\">\n",
              "      <th></th>\n",
              "      <th>Ano Censo</th>\n",
              "      <th>Número de Vagas Oferecidas</th>\n",
              "      <th>Número de Tipo de Ingressos</th>\n",
              "      <th>Número de Matrículas</th>\n",
              "      <th>Número de Concluintes</th>\n",
              "      <th>Número de Inscritos</th>\n",
              "      <th>Número de Cursos</th>\n",
              "      <th>Nome Região</th>\n",
              "    </tr>\n",
              "  </thead>\n",
              "  <tbody>\n",
              "    <tr>\n",
              "      <th>0</th>\n",
              "      <td>2017</td>\n",
              "      <td>6075252.0</td>\n",
              "      <td>2135126.0</td>\n",
              "      <td>6529681</td>\n",
              "      <td>947606</td>\n",
              "      <td>14605840.0</td>\n",
              "      <td>33522.0</td>\n",
              "      <td>BRASIL</td>\n",
              "    </tr>\n",
              "    <tr>\n",
              "      <th>1</th>\n",
              "      <td>2017</td>\n",
              "      <td>554885.0</td>\n",
              "      <td>208370.0</td>\n",
              "      <td>607357</td>\n",
              "      <td>89956</td>\n",
              "      <td>1306750.0</td>\n",
              "      <td>3072.0</td>\n",
              "      <td>CENTRO-OESTE</td>\n",
              "    </tr>\n",
              "    <tr>\n",
              "      <th>2</th>\n",
              "      <td>2017</td>\n",
              "      <td>1138928.0</td>\n",
              "      <td>441493.0</td>\n",
              "      <td>1447248</td>\n",
              "      <td>188730</td>\n",
              "      <td>3804497.0</td>\n",
              "      <td>6715.0</td>\n",
              "      <td>NORDESTE</td>\n",
              "    </tr>\n",
              "    <tr>\n",
              "      <th>3</th>\n",
              "      <td>2017</td>\n",
              "      <td>383771.0</td>\n",
              "      <td>143622.0</td>\n",
              "      <td>473716</td>\n",
              "      <td>64851</td>\n",
              "      <td>1367659.0</td>\n",
              "      <td>2513.0</td>\n",
              "      <td>NORTE</td>\n",
              "    </tr>\n",
              "    <tr>\n",
              "      <th>4</th>\n",
              "      <td>2017</td>\n",
              "      <td>3086636.0</td>\n",
              "      <td>1026159.0</td>\n",
              "      <td>3003075</td>\n",
              "      <td>458824</td>\n",
              "      <td>6516557.0</td>\n",
              "      <td>14861.0</td>\n",
              "      <td>SUDESTE</td>\n",
              "    </tr>\n",
              "  </tbody>\n",
              "</table>\n",
              "</div>"
            ],
            "text/plain": [
              "   Ano Censo  Número de Vagas Oferecidas  ...  Número de Cursos   Nome Região\n",
              "0       2017                   6075252.0  ...           33522.0        BRASIL\n",
              "1       2017                    554885.0  ...            3072.0  CENTRO-OESTE\n",
              "2       2017                   1138928.0  ...            6715.0      NORDESTE\n",
              "3       2017                    383771.0  ...            2513.0         NORTE\n",
              "4       2017                   3086636.0  ...           14861.0       SUDESTE\n",
              "\n",
              "[5 rows x 8 columns]"
            ]
          },
          "metadata": {},
          "execution_count": 13
        }
      ]
    },
    {
      "cell_type": "markdown",
      "metadata": {
        "id": "1pmtnbwdO9le"
      },
      "source": [
        "# **2. Funções**"
      ]
    },
    {
      "cell_type": "markdown",
      "metadata": {
        "id": "comUi69IO9dI"
      },
      "source": [
        "# **3. Tratamento de Dados**"
      ]
    },
    {
      "cell_type": "markdown",
      "metadata": {
        "id": "ieP1T-TLPk3a"
      },
      "source": [
        "## *3.1 Removendo células Not a Number (NaN)*\n",
        "\n",
        "> Dados **NaN (Not a Number)** indicam valores que foram perdidos e que não representados, isto é, trata-se de um valor indefinido. É importante que exista um tratamento destes dados, visto que podem ocasionar problemas durante a análise.\n",
        "\n"
      ]
    },
    {
      "cell_type": "code",
      "metadata": {
        "id": "nG4_kFOjdCJl",
        "outputId": "2b825931-04db-498e-a4a7-6781c93e5ffc",
        "colab": {
          "base_uri": "https://localhost:8080/"
        }
      },
      "source": [
        "# dados antes da atualização\n",
        "dataset.info()"
      ],
      "execution_count": 14,
      "outputs": [
        {
          "output_type": "stream",
          "name": "stdout",
          "text": [
            "<class 'pandas.core.frame.DataFrame'>\n",
            "RangeIndex: 57 entries, 0 to 56\n",
            "Data columns (total 8 columns):\n",
            " #   Column                       Non-Null Count  Dtype  \n",
            "---  ------                       --------------  -----  \n",
            " 0   Ano Censo                    57 non-null     int64  \n",
            " 1   Número de Vagas Oferecidas   55 non-null     float64\n",
            " 2   Número de Tipo de Ingressos  46 non-null     float64\n",
            " 3   Número de Matrículas         57 non-null     int64  \n",
            " 4   Número de Concluintes        57 non-null     int64  \n",
            " 5   Número de Inscritos          55 non-null     float64\n",
            " 6   Número de Cursos             54 non-null     float64\n",
            " 7   Nome Região                  57 non-null     object \n",
            "dtypes: float64(4), int64(3), object(1)\n",
            "memory usage: 3.7+ KB\n"
          ]
        }
      ]
    },
    {
      "cell_type": "code",
      "metadata": {
        "id": "NqASqYJ3dICW",
        "outputId": "49bf4d28-d5bc-4f05-d019-881a539b90c7",
        "colab": {
          "base_uri": "https://localhost:8080/"
        }
      },
      "source": [
        "# tratamento de células NaN:\n",
        "# o laço de repetição reconhece cada coluna do dataset;\n",
        "# reconhece-se o indíce e depois o valor da lista;\n",
        "# analisa se é NaN (caso seja, o valor será alterado para 0).\n",
        "for column in dataset:\n",
        "  for i, item in enumerate(dataset[column]):\n",
        "    if (pd.isnull(item)):\n",
        "      dataset.loc[i, column] = 0\n",
        "\n",
        "# dados pós atualização\n",
        "# obs: não há mais celulas NaN\n",
        "dataset.info()"
      ],
      "execution_count": 15,
      "outputs": [
        {
          "output_type": "stream",
          "name": "stdout",
          "text": [
            "<class 'pandas.core.frame.DataFrame'>\n",
            "RangeIndex: 57 entries, 0 to 56\n",
            "Data columns (total 8 columns):\n",
            " #   Column                       Non-Null Count  Dtype  \n",
            "---  ------                       --------------  -----  \n",
            " 0   Ano Censo                    57 non-null     int64  \n",
            " 1   Número de Vagas Oferecidas   57 non-null     float64\n",
            " 2   Número de Tipo de Ingressos  57 non-null     float64\n",
            " 3   Número de Matrículas         57 non-null     int64  \n",
            " 4   Número de Concluintes        57 non-null     int64  \n",
            " 5   Número de Inscritos          57 non-null     float64\n",
            " 6   Número de Cursos             57 non-null     float64\n",
            " 7   Nome Região                  57 non-null     object \n",
            "dtypes: float64(4), int64(3), object(1)\n",
            "memory usage: 3.7+ KB\n"
          ]
        }
      ]
    },
    {
      "cell_type": "markdown",
      "metadata": {
        "id": "atk70ghoPkro"
      },
      "source": [
        "## *3.2 Renomeando as colunas (removendo acentos e espaços)*"
      ]
    },
    {
      "cell_type": "markdown",
      "metadata": {
        "id": "Ul6EZMFWO9Tp"
      },
      "source": [
        "# **4. Análise de Dados**"
      ]
    },
    {
      "cell_type": "markdown",
      "metadata": {
        "id": "RLuuHELLQKeC"
      },
      "source": [
        "## *4.1 Taxas de crescimento ou decaimento ano a ano para todas as regiões do Brasil*"
      ]
    },
    {
      "cell_type": "markdown",
      "metadata": {
        "id": "k-8Jl-GoQM67"
      },
      "source": [
        "## *4.2 Número de vagas oferecidas por região ano a ano*"
      ]
    },
    {
      "cell_type": "markdown",
      "metadata": {
        "id": "uAF18C3rQOsk"
      },
      "source": [
        "## *4.3 Relação entre vagas e o número de ingressos*"
      ]
    },
    {
      "cell_type": "markdown",
      "metadata": {
        "id": "JwFtBRUYQQxh"
      },
      "source": [
        "## *4.4 Crescimento no número de matrículas por região*"
      ]
    },
    {
      "cell_type": "markdown",
      "metadata": {
        "id": "MlvfGBpqQTLB"
      },
      "source": [
        "## *4.5 Número de concluintes em cada região*"
      ]
    },
    {
      "cell_type": "markdown",
      "metadata": {
        "id": "TnkwOGE6QUl1"
      },
      "source": [
        "## *4.6 Comparação: número de inscritos e o número de matrículas*"
      ]
    },
    {
      "cell_type": "markdown",
      "metadata": {
        "id": "JNgS_vzwQV-R"
      },
      "source": [
        "## *4.7 Número de cursos ofertados na região e seus impactos no aumento de inscritos e/ou número de matrículas*"
      ]
    },
    {
      "cell_type": "markdown",
      "metadata": {
        "id": "d82tjGRwP4Bg"
      },
      "source": [
        "# **5. Conclusão Final**"
      ]
    }
  ]
}