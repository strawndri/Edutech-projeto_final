{
  "nbformat": 4,
  "nbformat_minor": 0,
  "metadata": {
    "colab": {
      "name": "analise_de_dados.ipynb",
      "provenance": [],
      "authorship_tag": "ABX9TyMoaX6sHqciYAkAmw1LoZOm",
      "include_colab_link": true
    },
    "kernelspec": {
      "name": "python3",
      "display_name": "Python 3"
    },
    "language_info": {
      "name": "python"
    }
  },
  "cells": [
    {
      "cell_type": "markdown",
      "metadata": {
        "id": "view-in-github",
        "colab_type": "text"
      },
      "source": [
        "<a href=\"https://colab.research.google.com/github/strawndri/Edutech-projeto_final/blob/main/Notebooks/analise_de_dados.ipynb\" target=\"_parent\"><img src=\"https://colab.research.google.com/assets/colab-badge.svg\" alt=\"Open In Colab\"/></a>"
      ]
    },
    {
      "cell_type": "markdown",
      "metadata": {
        "id": "EGLhZd1lO9sp"
      },
      "source": [
        "# **1. Importações**"
      ]
    },
    {
      "cell_type": "markdown",
      "metadata": {
        "id": "jWMuMydTPUBO"
      },
      "source": [
        "## *1.1 Bibliotecas*"
      ]
    },
    {
      "cell_type": "markdown",
      "metadata": {
        "id": "jtig2cN-PT6S"
      },
      "source": [
        "## *1.2 Base de Dados*"
      ]
    },
    {
      "cell_type": "markdown",
      "metadata": {
        "id": "1pmtnbwdO9le"
      },
      "source": [
        "# **2. Funções**"
      ]
    },
    {
      "cell_type": "markdown",
      "metadata": {
        "id": "comUi69IO9dI"
      },
      "source": [
        "# **3. Tratamento de Dados**"
      ]
    },
    {
      "cell_type": "markdown",
      "metadata": {
        "id": "ieP1T-TLPk3a"
      },
      "source": [
        "## *3.1 Removendo células Not a Number (NaN)*"
      ]
    },
    {
      "cell_type": "markdown",
      "metadata": {
        "id": "atk70ghoPkro"
      },
      "source": [
        "## *3.2 Renomeando as colunas (removendo acentos e espaços)*"
      ]
    },
    {
      "cell_type": "markdown",
      "metadata": {
        "id": "Ul6EZMFWO9Tp"
      },
      "source": [
        "# **4. Análise de Dados**"
      ]
    },
    {
      "cell_type": "markdown",
      "metadata": {
        "id": "RLuuHELLQKeC"
      },
      "source": [
        "## *4.1 Taxas de crescimento ou decaimento ano a ano para todas as regiões do Brasil*"
      ]
    },
    {
      "cell_type": "markdown",
      "metadata": {
        "id": "k-8Jl-GoQM67"
      },
      "source": [
        "## *4.2 Número de vagas oferecidas por região ano a ano*"
      ]
    },
    {
      "cell_type": "markdown",
      "metadata": {
        "id": "uAF18C3rQOsk"
      },
      "source": [
        "## *4.3 Relação entre vagas e o número de ingressos*"
      ]
    },
    {
      "cell_type": "markdown",
      "metadata": {
        "id": "JwFtBRUYQQxh"
      },
      "source": [
        "## *4.4 Crescimento no número de matrículas por região*"
      ]
    },
    {
      "cell_type": "markdown",
      "metadata": {
        "id": "MlvfGBpqQTLB"
      },
      "source": [
        "## *4.5 Número de concluintes em cada região*"
      ]
    },
    {
      "cell_type": "markdown",
      "metadata": {
        "id": "TnkwOGE6QUl1"
      },
      "source": [
        "## *4.6 Comparação: número de inscritos e o número de matrículas*"
      ]
    },
    {
      "cell_type": "markdown",
      "metadata": {
        "id": "JNgS_vzwQV-R"
      },
      "source": [
        "## *4.7 Número de cursos ofertados na região e seus impactos no aumento de inscritos e/ou número de matrículas*"
      ]
    },
    {
      "cell_type": "markdown",
      "metadata": {
        "id": "d82tjGRwP4Bg"
      },
      "source": [
        "# **5. Conclusão Final**"
      ]
    }
  ]
}